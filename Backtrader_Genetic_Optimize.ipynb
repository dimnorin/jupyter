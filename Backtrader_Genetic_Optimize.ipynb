{
  "nbformat": 4,
  "nbformat_minor": 0,
  "metadata": {
    "colab": {
      "name": "Backtrader_Genetic_Optimize.ipynb",
      "provenance": [],
      "authorship_tag": "ABX9TyMol7xAQF/iaVfHQn/KCLtb",
      "include_colab_link": true
    },
    "kernelspec": {
      "display_name": "Python 3",
      "name": "python3"
    },
    "language_info": {
      "name": "python"
    }
  },
  "cells": [
    {
      "cell_type": "markdown",
      "metadata": {
        "id": "view-in-github",
        "colab_type": "text"
      },
      "source": [
        "<a href=\"https://colab.research.google.com/github/dimnorin/jupyter/blob/main/Backtrader_Genetic_Optimize.ipynb\" target=\"_parent\"><img src=\"https://colab.research.google.com/assets/colab-badge.svg\" alt=\"Open In Colab\"/></a>"
      ]
    },
    {
      "cell_type": "code",
      "metadata": {
        "id": "Jd3xB7TSvTZE",
        "colab": {
          "base_uri": "https://localhost:8080/"
        },
        "outputId": "808cc352-7472-4c3b-d8f3-930660adea62"
      },
      "source": [
        "% pip install backtrader"
      ],
      "execution_count": 1,
      "outputs": [
        {
          "output_type": "stream",
          "text": [
            "Collecting backtrader\n",
            "\u001b[?25l  Downloading https://files.pythonhosted.org/packages/1a/bf/78aadd993e2719d6764603465fde163ba6ec15cf0e81f13e39ca13451348/backtrader-1.9.76.123-py2.py3-none-any.whl (410kB)\n",
            "\r\u001b[K     |▉                               | 10kB 13.5MB/s eta 0:00:01\r\u001b[K     |█▋                              | 20kB 14.1MB/s eta 0:00:01\r\u001b[K     |██▍                             | 30kB 9.9MB/s eta 0:00:01\r\u001b[K     |███▏                            | 40kB 8.4MB/s eta 0:00:01\r\u001b[K     |████                            | 51kB 4.2MB/s eta 0:00:01\r\u001b[K     |████▉                           | 61kB 4.8MB/s eta 0:00:01\r\u001b[K     |█████▋                          | 71kB 5.0MB/s eta 0:00:01\r\u001b[K     |██████▍                         | 81kB 5.4MB/s eta 0:00:01\r\u001b[K     |███████▏                        | 92kB 5.4MB/s eta 0:00:01\r\u001b[K     |████████                        | 102kB 4.1MB/s eta 0:00:01\r\u001b[K     |████████▉                       | 112kB 4.1MB/s eta 0:00:01\r\u001b[K     |█████████▋                      | 122kB 4.1MB/s eta 0:00:01\r\u001b[K     |██████████▍                     | 133kB 4.1MB/s eta 0:00:01\r\u001b[K     |███████████▏                    | 143kB 4.1MB/s eta 0:00:01\r\u001b[K     |████████████                    | 153kB 4.1MB/s eta 0:00:01\r\u001b[K     |████████████▉                   | 163kB 4.1MB/s eta 0:00:01\r\u001b[K     |█████████████▋                  | 174kB 4.1MB/s eta 0:00:01\r\u001b[K     |██████████████▍                 | 184kB 4.1MB/s eta 0:00:01\r\u001b[K     |███████████████▏                | 194kB 4.1MB/s eta 0:00:01\r\u001b[K     |████████████████                | 204kB 4.1MB/s eta 0:00:01\r\u001b[K     |████████████████▉               | 215kB 4.1MB/s eta 0:00:01\r\u001b[K     |█████████████████▋              | 225kB 4.1MB/s eta 0:00:01\r\u001b[K     |██████████████████▍             | 235kB 4.1MB/s eta 0:00:01\r\u001b[K     |███████████████████▏            | 245kB 4.1MB/s eta 0:00:01\r\u001b[K     |████████████████████            | 256kB 4.1MB/s eta 0:00:01\r\u001b[K     |████████████████████▊           | 266kB 4.1MB/s eta 0:00:01\r\u001b[K     |█████████████████████▋          | 276kB 4.1MB/s eta 0:00:01\r\u001b[K     |██████████████████████▍         | 286kB 4.1MB/s eta 0:00:01\r\u001b[K     |███████████████████████▏        | 296kB 4.1MB/s eta 0:00:01\r\u001b[K     |████████████████████████        | 307kB 4.1MB/s eta 0:00:01\r\u001b[K     |████████████████████████▊       | 317kB 4.1MB/s eta 0:00:01\r\u001b[K     |█████████████████████████▋      | 327kB 4.1MB/s eta 0:00:01\r\u001b[K     |██████████████████████████▍     | 337kB 4.1MB/s eta 0:00:01\r\u001b[K     |███████████████████████████▏    | 348kB 4.1MB/s eta 0:00:01\r\u001b[K     |████████████████████████████    | 358kB 4.1MB/s eta 0:00:01\r\u001b[K     |████████████████████████████▊   | 368kB 4.1MB/s eta 0:00:01\r\u001b[K     |█████████████████████████████▋  | 378kB 4.1MB/s eta 0:00:01\r\u001b[K     |██████████████████████████████▍ | 389kB 4.1MB/s eta 0:00:01\r\u001b[K     |███████████████████████████████▏| 399kB 4.1MB/s eta 0:00:01\r\u001b[K     |████████████████████████████████| 409kB 4.1MB/s eta 0:00:01\r\u001b[K     |████████████████████████████████| 419kB 4.1MB/s \n",
            "\u001b[?25hInstalling collected packages: backtrader\n",
            "Successfully installed backtrader-1.9.76.123\n"
          ],
          "name": "stdout"
        }
      ]
    },
    {
      "cell_type": "code",
      "metadata": {
        "id": "jEINd3Vavc4u",
        "colab": {
          "base_uri": "https://localhost:8080/"
        },
        "outputId": "19db8f5f-ba10-4218-b605-9d70719b41c9"
      },
      "source": [
        "% pip install gradient-free-optimizers"
      ],
      "execution_count": 2,
      "outputs": [
        {
          "output_type": "stream",
          "text": [
            "Collecting gradient-free-optimizers\n",
            "\u001b[?25l  Downloading https://files.pythonhosted.org/packages/43/73/4cc266db852ee443b778d0e2fbc567c560a81989c6a3660ec0dad77e303d/gradient_free_optimizers-0.3.2-py3-none-any.whl (69kB)\n",
            "\r\u001b[K     |████▊                           | 10kB 11.2MB/s eta 0:00:01\r\u001b[K     |█████████▌                      | 20kB 13.8MB/s eta 0:00:01\r\u001b[K     |██████████████▏                 | 30kB 9.7MB/s eta 0:00:01\r\u001b[K     |███████████████████             | 40kB 7.6MB/s eta 0:00:01\r\u001b[K     |███████████████████████▊        | 51kB 4.1MB/s eta 0:00:01\r\u001b[K     |████████████████████████████▍   | 61kB 4.5MB/s eta 0:00:01\r\u001b[K     |████████████████████████████████| 71kB 3.3MB/s \n",
            "\u001b[?25hRequirement already satisfied: pandas in /usr/local/lib/python3.7/dist-packages (from gradient-free-optimizers) (1.1.5)\n",
            "Requirement already satisfied: numpy>=1.18.1 in /usr/local/lib/python3.7/dist-packages (from gradient-free-optimizers) (1.19.5)\n",
            "Requirement already satisfied: scikit-learn!=0.23.*,>=0.21 in /usr/local/lib/python3.7/dist-packages (from gradient-free-optimizers) (0.22.2.post1)\n",
            "Requirement already satisfied: tqdm in /usr/local/lib/python3.7/dist-packages (from gradient-free-optimizers) (4.41.1)\n",
            "Requirement already satisfied: scipy in /usr/local/lib/python3.7/dist-packages (from gradient-free-optimizers) (1.4.1)\n",
            "Requirement already satisfied: python-dateutil>=2.7.3 in /usr/local/lib/python3.7/dist-packages (from pandas->gradient-free-optimizers) (2.8.1)\n",
            "Requirement already satisfied: pytz>=2017.2 in /usr/local/lib/python3.7/dist-packages (from pandas->gradient-free-optimizers) (2018.9)\n",
            "Requirement already satisfied: joblib>=0.11 in /usr/local/lib/python3.7/dist-packages (from scikit-learn!=0.23.*,>=0.21->gradient-free-optimizers) (1.0.1)\n",
            "Requirement already satisfied: six>=1.5 in /usr/local/lib/python3.7/dist-packages (from python-dateutil>=2.7.3->pandas->gradient-free-optimizers) (1.15.0)\n",
            "Installing collected packages: gradient-free-optimizers\n",
            "Successfully installed gradient-free-optimizers-0.3.2\n"
          ],
          "name": "stdout"
        }
      ]
    },
    {
      "cell_type": "code",
      "metadata": {
        "id": "TiI7b4lACBjt",
        "colab": {
          "base_uri": "https://localhost:8080/"
        },
        "outputId": "16fa0b03-2e00-4c5a-9ab6-b9c6166580c6"
      },
      "source": [
        "% pip install yfinance"
      ],
      "execution_count": 3,
      "outputs": [
        {
          "output_type": "stream",
          "text": [
            "Collecting yfinance\n",
            "  Downloading https://files.pythonhosted.org/packages/5e/4e/88d31f5509edcbc51bcbb7eeae72516b17ada1bc2ad5b496e2d05d62c696/yfinance-0.1.60.tar.gz\n",
            "Requirement already satisfied: pandas>=0.24 in /usr/local/lib/python3.7/dist-packages (from yfinance) (1.1.5)\n",
            "Requirement already satisfied: numpy>=1.15 in /usr/local/lib/python3.7/dist-packages (from yfinance) (1.19.5)\n",
            "Requirement already satisfied: requests>=2.20 in /usr/local/lib/python3.7/dist-packages (from yfinance) (2.23.0)\n",
            "Requirement already satisfied: multitasking>=0.0.7 in /usr/local/lib/python3.7/dist-packages (from yfinance) (0.0.9)\n",
            "Collecting lxml>=4.5.1\n",
            "\u001b[?25l  Downloading https://files.pythonhosted.org/packages/30/c0/d0526314971fc661b083ab135747dc68446a3022686da8c16d25fcf6ef07/lxml-4.6.3-cp37-cp37m-manylinux2014_x86_64.whl (6.3MB)\n",
            "\u001b[K     |████████████████████████████████| 6.3MB 5.5MB/s \n",
            "\u001b[?25hRequirement already satisfied: python-dateutil>=2.7.3 in /usr/local/lib/python3.7/dist-packages (from pandas>=0.24->yfinance) (2.8.1)\n",
            "Requirement already satisfied: pytz>=2017.2 in /usr/local/lib/python3.7/dist-packages (from pandas>=0.24->yfinance) (2018.9)\n",
            "Requirement already satisfied: urllib3!=1.25.0,!=1.25.1,<1.26,>=1.21.1 in /usr/local/lib/python3.7/dist-packages (from requests>=2.20->yfinance) (1.24.3)\n",
            "Requirement already satisfied: certifi>=2017.4.17 in /usr/local/lib/python3.7/dist-packages (from requests>=2.20->yfinance) (2021.5.30)\n",
            "Requirement already satisfied: idna<3,>=2.5 in /usr/local/lib/python3.7/dist-packages (from requests>=2.20->yfinance) (2.10)\n",
            "Requirement already satisfied: chardet<4,>=3.0.2 in /usr/local/lib/python3.7/dist-packages (from requests>=2.20->yfinance) (3.0.4)\n",
            "Requirement already satisfied: six>=1.5 in /usr/local/lib/python3.7/dist-packages (from python-dateutil>=2.7.3->pandas>=0.24->yfinance) (1.15.0)\n",
            "Building wheels for collected packages: yfinance\n",
            "  Building wheel for yfinance (setup.py) ... \u001b[?25l\u001b[?25hdone\n",
            "  Created wheel for yfinance: filename=yfinance-0.1.60-py2.py3-none-any.whl size=23819 sha256=39b5857f17a96675525bbb20435fad2fd2a6559ed5be4fdd02a399371648e871\n",
            "  Stored in directory: /root/.cache/pip/wheels/f0/be/a4/846f02c5985562250917b0ab7b33fff737c8e6e8cd5209aa3b\n",
            "Successfully built yfinance\n",
            "Installing collected packages: lxml, yfinance\n",
            "  Found existing installation: lxml 4.2.6\n",
            "    Uninstalling lxml-4.2.6:\n",
            "      Successfully uninstalled lxml-4.2.6\n",
            "Successfully installed lxml-4.6.3 yfinance-0.1.60\n"
          ],
          "name": "stdout"
        }
      ]
    },
    {
      "cell_type": "code",
      "metadata": {
        "id": "qVfZJtHdtPUj"
      },
      "source": [
        "import time\n",
        "import numpy as np\n",
        "import pandas as pd\n",
        "import backtrader as bt\n",
        "import pandas_datareader.data as web\n",
        "import yfinance as yf\n",
        "\n",
        "from gradient_free_optimizers import *\n",
        "from datetime import datetime"
      ],
      "execution_count": 4,
      "outputs": []
    },
    {
      "cell_type": "code",
      "metadata": {
        "id": "NH_HGiO7wWu7"
      },
      "source": [
        "class SmaCross(bt.SignalStrategy):\n",
        "    params = (\n",
        "        ('fast', 10),\n",
        "        ('slow', 30),\n",
        "    )\n",
        "    def __init__(self):\n",
        "        sma1, sma2 = bt.ind.SMA(period=self.p.fast), bt.ind.SMA(period=self.p.slow)\n",
        "        crossover = bt.ind.CrossOver(sma1, sma2)\n",
        "        self.signal_add(bt.SIGNAL_LONG, crossover)"
      ],
      "execution_count": 5,
      "outputs": []
    },
    {
      "cell_type": "code",
      "metadata": {
        "colab": {
          "base_uri": "https://localhost:8080/"
        },
        "id": "TQGYjBeX_KIb",
        "outputId": "f86a9e1f-bb7c-4e9f-9ddf-8ac789128cbc"
      },
      "source": [
        "data = bt.feeds.PandasData(dataname=yf.download('TSLA', '2018-01-01', '2019-01-01'))"
      ],
      "execution_count": 6,
      "outputs": [
        {
          "output_type": "stream",
          "text": [
            "\r[*********************100%***********************]  1 of 1 completed\n"
          ],
          "name": "stdout"
        }
      ]
    },
    {
      "cell_type": "markdown",
      "metadata": {
        "id": "RhRg3FElI4yH"
      },
      "source": [
        "# Gradient Optimizers"
      ]
    },
    {
      "cell_type": "code",
      "metadata": {
        "id": "hpqyDppL8Jbx"
      },
      "source": [
        "def runstrat(p):\n",
        "    cerebro = bt.Cerebro()\n",
        "    cerebro.adddata(data)\n",
        "    cerebro.addstrategy(SmaCross, fast = p[\"fast\"], slow = p[\"slow\"])\n",
        "    cerebro.run()\n",
        "\n",
        "    return cerebro.broker.getvalue()"
      ],
      "execution_count": 11,
      "outputs": []
    },
    {
      "cell_type": "code",
      "metadata": {
        "id": "k616VEiU83qZ"
      },
      "source": [
        "def run_optimizer(class_name):\n",
        "    start = time.time()\n",
        "\n",
        "    search_space = {\n",
        "        \"fast\": np.arange(5, 150, 2),\n",
        "        \"slow\": np.arange(50, 150, 2),\n",
        "    }\n",
        "\n",
        "    iterations = 200\n",
        "\n",
        "    module = __import__('gradient_free_optimizers')\n",
        "    class_ = getattr(module, class_name)\n",
        "    opt = class_(search_space)\n",
        "    opt.search(runstrat, n_iter=iterations, verbosity=[])\n",
        "    end = time.time()\n",
        "    print(f'{class_name}: score:{opt.best_score}, time:{\"%.2f\" % (end-start)} s, para:{opt.best_para}')"
      ],
      "execution_count": 12,
      "outputs": []
    },
    {
      "cell_type": "code",
      "metadata": {
        "colab": {
          "base_uri": "https://localhost:8080/"
        },
        "id": "_88VKvOoGoEV",
        "outputId": "871f5357-07f7-4a32-871b-8adc1ceb29c1"
      },
      "source": [
        "optimizers = ['HillClimbingOptimizer',\n",
        "'RepulsingHillClimbingOptimizer',\n",
        "'SimulatedAnnealingOptimizer',\n",
        "'RandomSearchOptimizer',\n",
        "'RandomRestartHillClimbingOptimizer',\n",
        "'RandomAnnealingOptimizer',\n",
        "'ParallelTemperingOptimizer',\n",
        "'ParticleSwarmOptimizer',\n",
        "'EvolutionStrategyOptimizer',\n",
        "'DecisionTreeOptimizer']\n",
        "\n",
        "for o in optimizers:\n",
        "  run_optimizer(o)"
      ],
      "execution_count": 13,
      "outputs": [
        {
          "output_type": "stream",
          "text": [
            "HillClimbingOptimizer: score:10023.95000076294, time:7.72 s, para:{'fast': 129, 'slow': 54}\n",
            "RepulsingHillClimbingOptimizer: score:10023.95000076294, time:15.99 s, para:{'fast': 119, 'slow': 60}\n",
            "SimulatedAnnealingOptimizer: score:10023.95000076294, time:7.24 s, para:{'fast': 131, 'slow': 52}\n",
            "RandomSearchOptimizer: score:10026.352001190186, time:20.60 s, para:{'fast': 61, 'slow': 56}\n",
            "RandomRestartHillClimbingOptimizer: score:10023.95000076294, time:10.14 s, para:{'fast': 127, 'slow': 52}\n",
            "RandomAnnealingOptimizer: score:10023.95000076294, time:8.63 s, para:{'fast': 125, 'slow': 56}\n",
            "ParallelTemperingOptimizer: score:10021.9880027771, time:15.08 s, para:{'fast': 147, 'slow': 50}\n",
            "ParticleSwarmOptimizer: score:10030.186000823975, time:15.71 s, para:{'fast': 61, 'slow': 54}\n",
            "EvolutionStrategyOptimizer: score:10023.95000076294, time:14.98 s, para:{'fast': 131, 'slow': 52}\n",
            "DecisionTreeOptimizer: score:10035.94200515747, time:5.05 s, para:{'fast': 57, 'slow': 56}\n"
          ],
          "name": "stdout"
        }
      ]
    },
    {
      "cell_type": "markdown",
      "metadata": {
        "id": "W--0BPziJBvE"
      },
      "source": [
        "# Build-in Optimize"
      ]
    },
    {
      "cell_type": "code",
      "metadata": {
        "id": "uYqzSbZRIzw0"
      },
      "source": [
        "start = time.time()\n",
        "cerebro = bt.Cerebro()\n",
        "cerebro.adddata(data)\n",
        "cerebro.optstrategy(SmaCross, fast = [x for x in range(5, 150, 2)], slow = [x for x in range(50, 150, 2)])\n",
        "results = cerebro.run(optreturn=False)\n",
        "\n",
        "sorted_results = sorted(results, key=lambda x: x[0].broker.cash, reverse=True)\n",
        "end = time.time()"
      ],
      "execution_count": 9,
      "outputs": []
    },
    {
      "cell_type": "code",
      "metadata": {
        "colab": {
          "base_uri": "https://localhost:8080/"
        },
        "id": "GF2kyjoL0T8c",
        "outputId": "00230e8d-b859-4c73-bf2c-427e6bea3fdc"
      },
      "source": [
        "print(f'Build-in brutforce: score:{sorted_results[0][0].broker.cash}, time:{\"%.2f\" % (end-start)} s, para: \"fast\":{sorted_results[0][0].p.fast}, \"slow\":{sorted_results[0][0].p.slow}')"
      ],
      "execution_count": 10,
      "outputs": [
        {
          "output_type": "stream",
          "text": [
            "Build-in brutforce: score:10035.94200515747, time:207.48 s, para: \"fast\":57, \"slow\":56\n"
          ],
          "name": "stdout"
        }
      ]
    }
  ]
}